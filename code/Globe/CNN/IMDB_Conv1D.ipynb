{
  "nbformat": 4,
  "nbformat_minor": 0,
  "metadata": {
    "colab": {
      "provenance": [],
      "collapsed_sections": []
    },
    "kernelspec": {
      "name": "python3",
      "display_name": "Python 3"
    },
    "language_info": {
      "name": "python"
    },
    "accelerator": "GPU"
  },
  "cells": [
    {
      "cell_type": "markdown",
      "metadata": {
        "id": "m43YWidTzF_x"
      },
      "source": [
        "# 사전작업"
      ]
    },
    {
      "cell_type": "code",
      "metadata": {
        "id": "ZtpG5ZdlysBO"
      },
      "source": [
        "import numpy as np\n",
        "import pandas as pd\n",
        "import matplotlib.pyplot as plt\n",
        "import seaborn as sns\n",
        "from sklearn.model_selection import train_test_split\n",
        "import re\n",
        "\n",
        "import tensorflow\n",
        "from tensorflow.keras.models import Model\n",
        "from tensorflow.keras.layers import Dense, Embedding, Input, GRU, Bidirectional, GlobalMaxPooling1D,GlobalAveragePooling1D, Dropout,SpatialDropout1D,Conv1D,concatenate,Flatten\n",
        "#Bidirectional은 양방향으로 데이터를 보기 위해서 사용되는 함수\n",
        "from tensorflow.keras.preprocessing.text import Tokenizer\n",
        "from tensorflow.keras.preprocessing import sequence\n",
        "from tensorflow.keras.callbacks import EarlyStopping, ModelCheckpoint\n",
        "from tensorflow.keras.models import load_model"
      ],
      "execution_count": null,
      "outputs": []
    },
    {
      "cell_type": "code",
      "metadata": {
        "id": "rzmC3-lTzcxX",
        "colab": {
          "base_uri": "https://localhost:8080/",
          "height": 206
        },
        "outputId": "494cc9f8-5edd-4d1c-e5ee-003bfa7f8429"
      },
      "source": [
        "#데이터 불러오기\n",
        "data = pd.read_csv('/content/drive/MyDrive/IMDB Dataset.csv')\n",
        "data.head()"
      ],
      "execution_count": null,
      "outputs": [
        {
          "output_type": "execute_result",
          "data": {
            "text/plain": [
              "                                              review sentiment\n",
              "0  One of the other reviewers has mentioned that ...  positive\n",
              "1  A wonderful little production. <br /><br />The...  positive\n",
              "2  I thought this was a wonderful way to spend ti...  positive\n",
              "3  Basically there's a family where a little boy ...  negative\n",
              "4  Petter Mattei's \"Love in the Time of Money\" is...  positive"
            ],
            "text/html": [
              "\n",
              "  <div id=\"df-1488448f-eaa1-4b0f-9b81-0a9d5b79587f\">\n",
              "    <div class=\"colab-df-container\">\n",
              "      <div>\n",
              "<style scoped>\n",
              "    .dataframe tbody tr th:only-of-type {\n",
              "        vertical-align: middle;\n",
              "    }\n",
              "\n",
              "    .dataframe tbody tr th {\n",
              "        vertical-align: top;\n",
              "    }\n",
              "\n",
              "    .dataframe thead th {\n",
              "        text-align: right;\n",
              "    }\n",
              "</style>\n",
              "<table border=\"1\" class=\"dataframe\">\n",
              "  <thead>\n",
              "    <tr style=\"text-align: right;\">\n",
              "      <th></th>\n",
              "      <th>review</th>\n",
              "      <th>sentiment</th>\n",
              "    </tr>\n",
              "  </thead>\n",
              "  <tbody>\n",
              "    <tr>\n",
              "      <th>0</th>\n",
              "      <td>One of the other reviewers has mentioned that ...</td>\n",
              "      <td>positive</td>\n",
              "    </tr>\n",
              "    <tr>\n",
              "      <th>1</th>\n",
              "      <td>A wonderful little production. &lt;br /&gt;&lt;br /&gt;The...</td>\n",
              "      <td>positive</td>\n",
              "    </tr>\n",
              "    <tr>\n",
              "      <th>2</th>\n",
              "      <td>I thought this was a wonderful way to spend ti...</td>\n",
              "      <td>positive</td>\n",
              "    </tr>\n",
              "    <tr>\n",
              "      <th>3</th>\n",
              "      <td>Basically there's a family where a little boy ...</td>\n",
              "      <td>negative</td>\n",
              "    </tr>\n",
              "    <tr>\n",
              "      <th>4</th>\n",
              "      <td>Petter Mattei's \"Love in the Time of Money\" is...</td>\n",
              "      <td>positive</td>\n",
              "    </tr>\n",
              "  </tbody>\n",
              "</table>\n",
              "</div>\n",
              "      <button class=\"colab-df-convert\" onclick=\"convertToInteractive('df-1488448f-eaa1-4b0f-9b81-0a9d5b79587f')\"\n",
              "              title=\"Convert this dataframe to an interactive table.\"\n",
              "              style=\"display:none;\">\n",
              "        \n",
              "  <svg xmlns=\"http://www.w3.org/2000/svg\" height=\"24px\"viewBox=\"0 0 24 24\"\n",
              "       width=\"24px\">\n",
              "    <path d=\"M0 0h24v24H0V0z\" fill=\"none\"/>\n",
              "    <path d=\"M18.56 5.44l.94 2.06.94-2.06 2.06-.94-2.06-.94-.94-2.06-.94 2.06-2.06.94zm-11 1L8.5 8.5l.94-2.06 2.06-.94-2.06-.94L8.5 2.5l-.94 2.06-2.06.94zm10 10l.94 2.06.94-2.06 2.06-.94-2.06-.94-.94-2.06-.94 2.06-2.06.94z\"/><path d=\"M17.41 7.96l-1.37-1.37c-.4-.4-.92-.59-1.43-.59-.52 0-1.04.2-1.43.59L10.3 9.45l-7.72 7.72c-.78.78-.78 2.05 0 2.83L4 21.41c.39.39.9.59 1.41.59.51 0 1.02-.2 1.41-.59l7.78-7.78 2.81-2.81c.8-.78.8-2.07 0-2.86zM5.41 20L4 18.59l7.72-7.72 1.47 1.35L5.41 20z\"/>\n",
              "  </svg>\n",
              "      </button>\n",
              "      \n",
              "  <style>\n",
              "    .colab-df-container {\n",
              "      display:flex;\n",
              "      flex-wrap:wrap;\n",
              "      gap: 12px;\n",
              "    }\n",
              "\n",
              "    .colab-df-convert {\n",
              "      background-color: #E8F0FE;\n",
              "      border: none;\n",
              "      border-radius: 50%;\n",
              "      cursor: pointer;\n",
              "      display: none;\n",
              "      fill: #1967D2;\n",
              "      height: 32px;\n",
              "      padding: 0 0 0 0;\n",
              "      width: 32px;\n",
              "    }\n",
              "\n",
              "    .colab-df-convert:hover {\n",
              "      background-color: #E2EBFA;\n",
              "      box-shadow: 0px 1px 2px rgba(60, 64, 67, 0.3), 0px 1px 3px 1px rgba(60, 64, 67, 0.15);\n",
              "      fill: #174EA6;\n",
              "    }\n",
              "\n",
              "    [theme=dark] .colab-df-convert {\n",
              "      background-color: #3B4455;\n",
              "      fill: #D2E3FC;\n",
              "    }\n",
              "\n",
              "    [theme=dark] .colab-df-convert:hover {\n",
              "      background-color: #434B5C;\n",
              "      box-shadow: 0px 1px 3px 1px rgba(0, 0, 0, 0.15);\n",
              "      filter: drop-shadow(0px 1px 2px rgba(0, 0, 0, 0.3));\n",
              "      fill: #FFFFFF;\n",
              "    }\n",
              "  </style>\n",
              "\n",
              "      <script>\n",
              "        const buttonEl =\n",
              "          document.querySelector('#df-1488448f-eaa1-4b0f-9b81-0a9d5b79587f button.colab-df-convert');\n",
              "        buttonEl.style.display =\n",
              "          google.colab.kernel.accessAllowed ? 'block' : 'none';\n",
              "\n",
              "        async function convertToInteractive(key) {\n",
              "          const element = document.querySelector('#df-1488448f-eaa1-4b0f-9b81-0a9d5b79587f');\n",
              "          const dataTable =\n",
              "            await google.colab.kernel.invokeFunction('convertToInteractive',\n",
              "                                                     [key], {});\n",
              "          if (!dataTable) return;\n",
              "\n",
              "          const docLinkHtml = 'Like what you see? Visit the ' +\n",
              "            '<a target=\"_blank\" href=https://colab.research.google.com/notebooks/data_table.ipynb>data table notebook</a>'\n",
              "            + ' to learn more about interactive tables.';\n",
              "          element.innerHTML = '';\n",
              "          dataTable['output_type'] = 'display_data';\n",
              "          await google.colab.output.renderOutput(dataTable, element);\n",
              "          const docLink = document.createElement('div');\n",
              "          docLink.innerHTML = docLinkHtml;\n",
              "          element.appendChild(docLink);\n",
              "        }\n",
              "      </script>\n",
              "    </div>\n",
              "  </div>\n",
              "  "
            ]
          },
          "metadata": {},
          "execution_count": 2
        }
      ]
    },
    {
      "cell_type": "code",
      "source": [
        "# cutoff = int(len(data)*0.7)\n",
        "# train_data = data[:cutoff]\n",
        "# test_data = data[cutoff:]"
      ],
      "metadata": {
        "id": "fVJacwfBQUC9"
      },
      "execution_count": null,
      "outputs": []
    },
    {
      "cell_type": "code",
      "source": [
        "import nltk"
      ],
      "metadata": {
        "id": "z_7HuTIK6mpa"
      },
      "execution_count": null,
      "outputs": []
    },
    {
      "cell_type": "code",
      "source": [
        "nltk.download('stopwords')"
      ],
      "metadata": {
        "colab": {
          "base_uri": "https://localhost:8080/"
        },
        "id": "ypQQPiT86kI6",
        "outputId": "f7f56fd4-e8c3-43f3-d267-0863b8bdea3f"
      },
      "execution_count": null,
      "outputs": [
        {
          "output_type": "stream",
          "name": "stderr",
          "text": [
            "[nltk_data] Downloading package stopwords to /root/nltk_data...\n",
            "[nltk_data]   Unzipping corpora/stopwords.zip.\n"
          ]
        },
        {
          "output_type": "execute_result",
          "data": {
            "text/plain": [
              "True"
            ]
          },
          "metadata": {},
          "execution_count": 10
        }
      ]
    },
    {
      "cell_type": "code",
      "source": [
        "import re\n",
        "from nltk.stem import WordNetLemmatizer\n",
        "from nltk.corpus import stopwords\n",
        "\n",
        "stop_words = set(stopwords.words(\"english\")) \n",
        "lemmatizer = WordNetLemmatizer()"
      ],
      "metadata": {
        "id": "GcZmrPue6e58"
      },
      "execution_count": null,
      "outputs": []
    },
    {
      "cell_type": "code",
      "metadata": {
        "id": "JRB7hTZOBJ2Q"
      },
      "source": [
        "# def clean_text(text):\n",
        "#     text = text.lower()\n",
        "#     text = re.sub(r\"what's\", \"what is \", text)\n",
        "#     text = re.sub(r\"\\'s\", \" \", text)\n",
        "#     text = re.sub(r\"\\'ve\", \" have \", text)\n",
        "#     text = re.sub(r\"can't\", \"cannot \", text)\n",
        "#     text = re.sub(r\"n't\", \" not \", text)\n",
        "#     text = re.sub(r\"i'm\", \"i am \", text)\n",
        "#     text = re.sub(r\"\\'re\", \" are \", text)\n",
        "#     text = re.sub(r\"\\'d\", \" would \", text)\n",
        "#     text = re.sub(r\"\\'ll\", \" will \", text)\n",
        "#     text = re.sub(r\"\\'scuse\", \" excuse \", text)\n",
        "#     text = re.sub('\\W', ' ', text)\n",
        "#     text = re.sub('\\s+', ' ', text)\n",
        "#     text = [lemmatizer.lemmatize(token) for token in text.split(\" \")]\n",
        "#     text = [lemmatizer.lemmatize(token, \"v\") for token in text]\n",
        "#     text = [word for word in text if not word in stop_words]\n",
        "#     text = \" \".join(text)\n",
        "#     text = text.strip(' ')\n",
        "#     return text"
      ],
      "execution_count": null,
      "outputs": []
    },
    {
      "cell_type": "code",
      "source": [
        "def clean_text(text):\n",
        "    text = re.sub(r'[^\\w\\s]','',text, re.UNICODE)\n",
        "    text = text.lower()\n",
        "    text = [lemmatizer.lemmatize(token) for token in text.split(\" \")]\n",
        "    text = [lemmatizer.lemmatize(token, \"v\") for token in text]\n",
        "    text = [word for word in text if not word in stop_words]\n",
        "    text = \" \".join(text)\n",
        "    return text"
      ],
      "metadata": {
        "id": "wDfpxk3V_ghn"
      },
      "execution_count": null,
      "outputs": []
    },
    {
      "cell_type": "code",
      "source": [
        "nltk.download('wordnet')"
      ],
      "metadata": {
        "colab": {
          "base_uri": "https://localhost:8080/"
        },
        "id": "Sl2DALKr6xbm",
        "outputId": "0fa8f341-4066-4d54-fb15-88fb8fa4bec6"
      },
      "execution_count": null,
      "outputs": [
        {
          "output_type": "stream",
          "name": "stderr",
          "text": [
            "[nltk_data] Downloading package wordnet to /root/nltk_data...\n"
          ]
        },
        {
          "output_type": "execute_result",
          "data": {
            "text/plain": [
              "True"
            ]
          },
          "metadata": {},
          "execution_count": 16
        }
      ]
    },
    {
      "cell_type": "code",
      "source": [
        "nltk.download('omw-1.4')"
      ],
      "metadata": {
        "colab": {
          "base_uri": "https://localhost:8080/"
        },
        "id": "plzFBku363TR",
        "outputId": "b2ab4a24-1f76-4c6a-f231-38fcde8d6e60"
      },
      "execution_count": null,
      "outputs": [
        {
          "output_type": "stream",
          "name": "stderr",
          "text": [
            "[nltk_data] Downloading package omw-1.4 to /root/nltk_data...\n"
          ]
        },
        {
          "output_type": "execute_result",
          "data": {
            "text/plain": [
              "True"
            ]
          },
          "metadata": {},
          "execution_count": 18
        }
      ]
    },
    {
      "cell_type": "code",
      "metadata": {
        "id": "0v3yOeV9rMQD"
      },
      "source": [
        "# X_train_raw = train_data['review'].map(lambda com : clean_text(com))\n",
        "# X_test_raw = test_data['review'].map(lambda com : clean_text(com))\n",
        "X = data['review'].map(lambda com : clean_text(com))\n",
        "# Y_train = train_data['sentiment']\n",
        "y = data['sentiment']"
      ],
      "execution_count": null,
      "outputs": []
    },
    {
      "cell_type": "code",
      "source": [
        "from tensorflow.keras.models import Sequential\n",
        "from tensorflow.keras.layers import LSTM, GlobalMaxPool1D"
      ],
      "metadata": {
        "id": "53eSzxqU_x76"
      },
      "execution_count": null,
      "outputs": []
    },
    {
      "cell_type": "code",
      "source": [
        "max_features = 6000\n",
        "tokenizer = Tokenizer(num_words=max_features)\n",
        "tokenizer.fit_on_texts(X)\n",
        "list_tokenized_train = tokenizer.texts_to_sequences(X)\n",
        "\n",
        "maxlen = 130\n",
        "X_t = sequence.pad_sequences(list_tokenized_train, maxlen=maxlen)\n",
        "y = data['sentiment']\n",
        "\n"
      ],
      "metadata": {
        "id": "il49reM9_sC5"
      },
      "execution_count": null,
      "outputs": []
    },
    {
      "cell_type": "code",
      "source": [
        "x_train,x_test,y_train,y_test = train_test_split(X_t,y,test_size=0.3,random_state=12,stratify=y)"
      ],
      "metadata": {
        "id": "itrspqAhAU-g"
      },
      "execution_count": null,
      "outputs": []
    },
    {
      "cell_type": "code",
      "source": [
        "x_train.shape"
      ],
      "metadata": {
        "colab": {
          "base_uri": "https://localhost:8080/"
        },
        "id": "Uz_z3iCSAlLS",
        "outputId": "836402d8-261e-4c81-d29f-000afb61e0e1"
      },
      "execution_count": null,
      "outputs": [
        {
          "output_type": "execute_result",
          "data": {
            "text/plain": [
              "(35000, 130)"
            ]
          },
          "metadata": {},
          "execution_count": 64
        }
      ]
    },
    {
      "cell_type": "code",
      "source": [
        "embed_size = 128\n",
        "model = Sequential()\n",
        "model.add(Embedding(max_features, embed_size))\n",
        "model.add(Bidirectional(LSTM(32, return_sequences = True)))\n",
        "model.add(GlobalMaxPool1D())\n",
        "model.add(Dense(20, activation=\"relu\"))\n",
        "model.add(Dropout(0.05))\n",
        "model.add(Dense(2, activation=\"sigmoid\"))\n",
        "model.compile(loss='binary_crossentropy', optimizer='adam', metrics=['accuracy'])"
      ],
      "metadata": {
        "id": "hk3nYAHNAXW2"
      },
      "execution_count": null,
      "outputs": []
    },
    {
      "cell_type": "code",
      "source": [
        "x_train.shape, y_train_one.shape"
      ],
      "metadata": {
        "colab": {
          "base_uri": "https://localhost:8080/"
        },
        "id": "7o9qCR6mAzUv",
        "outputId": "87a9d4c3-bf3d-4371-c928-ecbaa3fcfad9"
      },
      "execution_count": null,
      "outputs": [
        {
          "output_type": "execute_result",
          "data": {
            "text/plain": [
              "((35000, 130), (35000, 2))"
            ]
          },
          "metadata": {},
          "execution_count": 69
        }
      ]
    },
    {
      "cell_type": "code",
      "source": [
        "batch_size = 100\n",
        "epochs = 20\n",
        "model.fit(x_train,y_train_one, batch_size=batch_size, epochs=epochs, validation_split=0.2)"
      ],
      "metadata": {
        "colab": {
          "base_uri": "https://localhost:8080/"
        },
        "id": "D9ew8jwiAiKL",
        "outputId": "b570225f-074e-4313-ec77-c57c750ebea9"
      },
      "execution_count": null,
      "outputs": [
        {
          "output_type": "stream",
          "name": "stdout",
          "text": [
            "Epoch 1/20\n",
            "280/280 [==============================] - 6s 21ms/step - loss: 0.1428 - accuracy: 0.9505 - val_loss: 0.3454 - val_accuracy: 0.8676\n",
            "Epoch 2/20\n",
            "280/280 [==============================] - 5s 18ms/step - loss: 0.1004 - accuracy: 0.9680 - val_loss: 0.4300 - val_accuracy: 0.8597\n",
            "Epoch 3/20\n",
            "280/280 [==============================] - 5s 18ms/step - loss: 0.0779 - accuracy: 0.9747 - val_loss: 0.4342 - val_accuracy: 0.8599\n",
            "Epoch 4/20\n",
            "280/280 [==============================] - 5s 18ms/step - loss: 0.0655 - accuracy: 0.9793 - val_loss: 0.4837 - val_accuracy: 0.8610\n",
            "Epoch 5/20\n",
            "280/280 [==============================] - 5s 18ms/step - loss: 0.0381 - accuracy: 0.9896 - val_loss: 0.6072 - val_accuracy: 0.8591\n",
            "Epoch 6/20\n",
            "280/280 [==============================] - 5s 17ms/step - loss: 0.0255 - accuracy: 0.9938 - val_loss: 0.6532 - val_accuracy: 0.8574\n",
            "Epoch 7/20\n",
            "280/280 [==============================] - 5s 18ms/step - loss: 0.0182 - accuracy: 0.9962 - val_loss: 0.6829 - val_accuracy: 0.8600\n",
            "Epoch 8/20\n",
            "280/280 [==============================] - 5s 17ms/step - loss: 0.0129 - accuracy: 0.9972 - val_loss: 0.8041 - val_accuracy: 0.8484\n",
            "Epoch 9/20\n",
            "280/280 [==============================] - 5s 18ms/step - loss: 0.0168 - accuracy: 0.9951 - val_loss: 0.7417 - val_accuracy: 0.8559\n",
            "Epoch 10/20\n",
            "280/280 [==============================] - 5s 18ms/step - loss: 0.0198 - accuracy: 0.9935 - val_loss: 0.7606 - val_accuracy: 0.8530\n",
            "Epoch 11/20\n",
            "280/280 [==============================] - 5s 18ms/step - loss: 0.0160 - accuracy: 0.9952 - val_loss: 0.7578 - val_accuracy: 0.8554\n",
            "Epoch 12/20\n",
            "280/280 [==============================] - 5s 18ms/step - loss: 0.0130 - accuracy: 0.9964 - val_loss: 0.8218 - val_accuracy: 0.8571\n",
            "Epoch 13/20\n",
            "280/280 [==============================] - 5s 18ms/step - loss: 0.0106 - accuracy: 0.9969 - val_loss: 0.8520 - val_accuracy: 0.8550\n",
            "Epoch 14/20\n",
            "280/280 [==============================] - 6s 21ms/step - loss: 0.0083 - accuracy: 0.9976 - val_loss: 0.8932 - val_accuracy: 0.8563\n",
            "Epoch 15/20\n",
            "280/280 [==============================] - 5s 18ms/step - loss: 0.0053 - accuracy: 0.9986 - val_loss: 0.9131 - val_accuracy: 0.8606\n",
            "Epoch 16/20\n",
            "280/280 [==============================] - 5s 18ms/step - loss: 0.0045 - accuracy: 0.9989 - val_loss: 0.9697 - val_accuracy: 0.8569\n",
            "Epoch 17/20\n",
            "280/280 [==============================] - 5s 18ms/step - loss: 0.0062 - accuracy: 0.9981 - val_loss: 0.9952 - val_accuracy: 0.8564\n",
            "Epoch 18/20\n",
            "280/280 [==============================] - 5s 18ms/step - loss: 0.0093 - accuracy: 0.9970 - val_loss: 0.9371 - val_accuracy: 0.8494\n",
            "Epoch 19/20\n",
            "280/280 [==============================] - 5s 18ms/step - loss: 0.0151 - accuracy: 0.9944 - val_loss: 0.9076 - val_accuracy: 0.8564\n",
            "Epoch 20/20\n",
            "280/280 [==============================] - 5s 18ms/step - loss: 0.0102 - accuracy: 0.9971 - val_loss: 0.8856 - val_accuracy: 0.8546\n"
          ]
        },
        {
          "output_type": "execute_result",
          "data": {
            "text/plain": [
              "<keras.callbacks.History at 0x7f2bca4ac210>"
            ]
          },
          "metadata": {},
          "execution_count": 72
        }
      ]
    },
    {
      "cell_type": "code",
      "source": [
        "y[y=='positive'] = 1\n",
        "y[y=='negative'] = 0"
      ],
      "metadata": {
        "id": "C_TRvgO78HQO"
      },
      "execution_count": null,
      "outputs": []
    },
    {
      "cell_type": "code",
      "source": [
        "print(\"X shape : \", X.shape)\n",
        "print(\"y shape : \", y.shape)"
      ],
      "metadata": {
        "colab": {
          "base_uri": "https://localhost:8080/"
        },
        "id": "x4z6QEJn6UQY",
        "outputId": "4ea7db81-0ffb-430b-c696-88c4b540e4dc"
      },
      "execution_count": null,
      "outputs": [
        {
          "output_type": "stream",
          "name": "stdout",
          "text": [
            "X shape :  (50000,)\n",
            "y shape :  (50000,)\n"
          ]
        }
      ]
    },
    {
      "cell_type": "code",
      "source": [
        "X[0]"
      ],
      "metadata": {
        "colab": {
          "base_uri": "https://localhost:8080/",
          "height": 127
        },
        "id": "Hl21Wqow7WJC",
        "outputId": "6c385604-9e58-485c-c052-67b43d223c23"
      },
      "execution_count": null,
      "outputs": [
        {
          "output_type": "execute_result",
          "data": {
            "text/plain": [
              "'one reviewer ha mention watch 1 oz episode hook right exactly happen br br first thing strike oz wa brutality unflinching scene violence set right word go trust show faint hearted timid show pull punch regard drug sex violence hardcore classic use word br br call oz nickname give oswald maximum security state penitentary focus mainly emerald city experimental section prison cell glass front face inwards privacy high agenda em city home many aryan muslim gangsta latino christian italian irish scuffle death stare dodgy deal shady agreement never far away br br would say main appeal show due fact go show would dare forget pretty picture paint mainstream audience forget charm forget romance oz doe mess around first episode ever saw strike nasty wa surreal could say wa ready watch develop taste oz get accustom high level graphic violence violence injustice crook guard sell nickel inmate kill order get away well mannered middle class inmate turn prison bitch due lack street skill prison experience watch oz may become comfortable uncomfortable view thats get touch darker side'"
            ],
            "application/vnd.google.colaboratory.intrinsic+json": {
              "type": "string"
            }
          },
          "metadata": {},
          "execution_count": 21
        }
      ]
    },
    {
      "cell_type": "code",
      "metadata": {
        "colab": {
          "base_uri": "https://localhost:8080/"
        },
        "id": "QbFoa8-Ezq2F",
        "outputId": "2ded6593-16a9-41c8-d971-6b375e50c905"
      },
      "source": [
        "# print(\"X train shape : \", X_train_raw.shape)\n",
        "# print(\"X test shape : \", X_test_raw.shape)\n",
        "# print(\"y train shape : \", Y_train.shape)"
      ],
      "execution_count": null,
      "outputs": [
        {
          "output_type": "stream",
          "name": "stdout",
          "text": [
            "X train shape :  (35000,)\n",
            "X test shape :  (15000,)\n",
            "y train shape :  (35000,)\n"
          ]
        }
      ]
    },
    {
      "cell_type": "code",
      "source": [
        "from sklearn.model_selection import train_test_split"
      ],
      "metadata": {
        "id": "BjxCk1MO7cra"
      },
      "execution_count": null,
      "outputs": []
    },
    {
      "cell_type": "code",
      "source": [
        "x_train,x_test,y_train,y_test = train_test_split(X,y,test_size=0.3,random_state=12,stratify=y)"
      ],
      "metadata": {
        "id": "s9Biur3z7gAJ"
      },
      "execution_count": null,
      "outputs": []
    },
    {
      "cell_type": "markdown",
      "metadata": {
        "id": "QKa7Hs4K2mRV"
      },
      "source": [
        "# 토큰화 작업하기"
      ]
    },
    {
      "cell_type": "code",
      "metadata": {
        "id": "sJYj7QXw2H1l"
      },
      "source": [
        "# max_features=90000\n",
        "# maxlen=90\n",
        "# embed_size=300\n",
        "\n",
        "\n",
        "# tok=Tokenizer(num_words=max_features,lower=True)\n",
        "# tok.fit_on_texts(X_train_raw)\n",
        "# tok.fit_on_texts(X_test_raw)\n",
        "# X_train = sequence.pad_sequences(tok.texts_to_sequences(X_train_raw),\n",
        "#                         maxlen = maxlen, truncating = \"pre\")\n",
        "# X_test = sequence.pad_sequences(tok.texts_to_sequences(X_test_raw),\n",
        "#                        maxlen = maxlen, truncating = \"pre\")"
      ],
      "execution_count": null,
      "outputs": []
    },
    {
      "cell_type": "code",
      "source": [
        "max_features=90000\n",
        "maxlen=90\n",
        "embed_size=300\n",
        "\n",
        "\n",
        "tok=Tokenizer(num_words=max_features,lower=True)\n",
        "tok.fit_on_texts(x_train)\n",
        "tok.fit_on_texts(x_test)\n",
        "X_train = sequence.pad_sequences(tok.texts_to_sequences(x_train),\n",
        "                        maxlen = maxlen, truncating = \"post\")\n",
        "X_test = sequence.pad_sequences(tok.texts_to_sequences(x_test),\n",
        "                       maxlen = maxlen, truncating = \"post\")"
      ],
      "metadata": {
        "id": "12LzExfe8RBL"
      },
      "execution_count": null,
      "outputs": []
    },
    {
      "cell_type": "code",
      "metadata": {
        "id": "koUdlAPSO-ji"
      },
      "source": [
        "word_index = tok.word_index"
      ],
      "execution_count": null,
      "outputs": []
    },
    {
      "cell_type": "code",
      "source": [
        "len(word_index)"
      ],
      "metadata": {
        "colab": {
          "base_uri": "https://localhost:8080/"
        },
        "id": "W1xxZN1v81YJ",
        "outputId": "55dfa7b0-b39d-4407-819a-f11e1941963b"
      },
      "execution_count": null,
      "outputs": [
        {
          "output_type": "execute_result",
          "data": {
            "text/plain": [
              "82866"
            ]
          },
          "metadata": {},
          "execution_count": 31
        }
      ]
    },
    {
      "cell_type": "code",
      "metadata": {
        "id": "xwGi1GxAP-0u"
      },
      "source": [
        "word_index = {e:i for e,i in word_index.items() if i <= max_features}"
      ],
      "execution_count": null,
      "outputs": []
    },
    {
      "cell_type": "code",
      "metadata": {
        "colab": {
          "base_uri": "https://localhost:8080/"
        },
        "id": "xw8GEwWfEHsT",
        "outputId": "475e6251-1022-4075-eafb-4d0f9ed87f70"
      },
      "source": [
        "# x_train, x_val, y_train, y_val = train_test_split(X_train,y_train,train_size=0.9, random_state=199)\n",
        "# print(x_train.shape,\" \",y_train.shape,\" \",x_val.shape,\" \",y_val.shape)"
      ],
      "execution_count": null,
      "outputs": [
        {
          "output_type": "stream",
          "name": "stdout",
          "text": [
            "(31500, 90)   (31500,)   (3500, 90)   (3500,)\n"
          ]
        }
      ]
    },
    {
      "cell_type": "code",
      "metadata": {
        "id": "bUBR1SFVN833",
        "colab": {
          "base_uri": "https://localhost:8080/"
        },
        "outputId": "0caf63b1-530a-4a6b-b56a-4b96b95f6d11"
      },
      "source": [
        "!wget http://nlp.stanford.edu/data/glove.6B.zip\n",
        "!unzip glove*.zip"
      ],
      "execution_count": null,
      "outputs": [
        {
          "output_type": "stream",
          "name": "stdout",
          "text": [
            "--2022-10-27 07:09:07--  http://nlp.stanford.edu/data/glove.6B.zip\n",
            "Resolving nlp.stanford.edu (nlp.stanford.edu)... 171.64.67.140\n",
            "Connecting to nlp.stanford.edu (nlp.stanford.edu)|171.64.67.140|:80... connected.\n",
            "HTTP request sent, awaiting response... 302 Found\n",
            "Location: https://nlp.stanford.edu/data/glove.6B.zip [following]\n",
            "--2022-10-27 07:09:07--  https://nlp.stanford.edu/data/glove.6B.zip\n",
            "Connecting to nlp.stanford.edu (nlp.stanford.edu)|171.64.67.140|:443... connected.\n",
            "HTTP request sent, awaiting response... 301 Moved Permanently\n",
            "Location: https://downloads.cs.stanford.edu/nlp/data/glove.6B.zip [following]\n",
            "--2022-10-27 07:09:08--  https://downloads.cs.stanford.edu/nlp/data/glove.6B.zip\n",
            "Resolving downloads.cs.stanford.edu (downloads.cs.stanford.edu)... 171.64.64.22\n",
            "Connecting to downloads.cs.stanford.edu (downloads.cs.stanford.edu)|171.64.64.22|:443... connected.\n",
            "HTTP request sent, awaiting response... ^C\n",
            "Archive:  glove.6B.zip\n",
            "  End-of-central-directory signature not found.  Either this file is not\n",
            "  a zipfile, or it constitutes one disk of a multi-part archive.  In the\n",
            "  latter case the central directory and zipfile comment will be found on\n",
            "  the last disk(s) of this archive.\n",
            "unzip:  cannot find zipfile directory in one of glove.6B.zip or\n",
            "        glove.6B.zip.zip, and cannot find glove.6B.zip.ZIP, period.\n"
          ]
        }
      ]
    },
    {
      "cell_type": "code",
      "metadata": {
        "colab": {
          "base_uri": "https://localhost:8080/"
        },
        "id": "RZDD2FNtPFRp",
        "outputId": "f7b2c004-c795-42dd-b45d-9ef37460d9c6"
      },
      "source": [
        "embedding_dict = dict()\n",
        "f = open('/content/drive/MyDrive/glove.6B.300d.txt', encoding=\"utf8\")\n",
        "\n",
        "for line in f:\n",
        "    word_vector = line.split()\n",
        "    word = word_vector[0]\n",
        "    word_vector_arr = np.asarray(word_vector[1:], dtype='float32') # 300개의 값을 가지는 array로 변환\n",
        "    embedding_dict[word] = word_vector_arr\n",
        "f.close()\n",
        "print('%s개의 Embedding vector가 있습니다.' % len(embedding_dict))"
      ],
      "execution_count": null,
      "outputs": [
        {
          "output_type": "stream",
          "name": "stdout",
          "text": [
            "400000개의 Embedding vector가 있습니다.\n"
          ]
        }
      ]
    },
    {
      "cell_type": "code",
      "metadata": {
        "id": "sB82y-F2ODQS"
      },
      "source": [
        "embedding_matrix = np.zeros((max_features, 300))"
      ],
      "execution_count": null,
      "outputs": []
    },
    {
      "cell_type": "code",
      "metadata": {
        "id": "ypIwZhpuO5Tv"
      },
      "source": [
        "for word, i in word_index.items():\n",
        "  tmp = embedding_dict.get(word)\n",
        "  if tmp is not None:\n",
        "    embedding_matrix[i-1] = tmp"
      ],
      "execution_count": null,
      "outputs": []
    },
    {
      "cell_type": "markdown",
      "metadata": {
        "id": "bdUAfao7iLNh"
      },
      "source": [
        "# 모델 구성하기"
      ]
    },
    {
      "cell_type": "code",
      "source": [
        "print(x_train.shape,\" \",y_train.shape)"
      ],
      "metadata": {
        "colab": {
          "base_uri": "https://localhost:8080/"
        },
        "id": "CySH2kWF9_Ee",
        "outputId": "8f7b14f0-6788-467b-f06a-24499e755c78"
      },
      "execution_count": null,
      "outputs": [
        {
          "output_type": "stream",
          "name": "stdout",
          "text": [
            "(35000,)   (35000,)\n"
          ]
        }
      ]
    },
    {
      "cell_type": "code",
      "metadata": {
        "colab": {
          "base_uri": "https://localhost:8080/"
        },
        "id": "xXIPf6w60zes",
        "outputId": "79af51e6-c255-431e-d8cb-6b8cbe6e6e34"
      },
      "source": [
        "input = Input(shape=(maxlen, )) \n",
        "layer = Embedding(max_features, 300, weights=[embedding_matrix], input_length=maxlen, trainable=True)(input)\n",
        "layer = Conv1D(128, kernel_size = 3)(layer)   \n",
        "layer = Conv1D(64, kernel_size = 3)(layer)\n",
        "# layer = Conv1D(256,kernel_size=3)(layer)  \n",
        "avg_pool = GlobalAveragePooling1D()(layer)\n",
        "max_pool = GlobalMaxPooling1D()(layer)\n",
        "layer = concatenate([avg_pool, max_pool])\n",
        "\n",
        "layer = Dense(50,activation='relu')(layer)\n",
        "layer = Flatten()(layer)\n",
        "layer= Dense(2, activation=\"sigmoid\")(layer)\n",
        "model = Model(inputs = input, outputs = layer)  \n",
        "model.summary()\n",
        "model.compile(loss='binary_crossentropy',optimizer='RMSprop',metrics=['accuracy'])"
      ],
      "execution_count": null,
      "outputs": [
        {
          "output_type": "stream",
          "name": "stdout",
          "text": [
            "Model: \"model_4\"\n",
            "__________________________________________________________________________________________________\n",
            " Layer (type)                   Output Shape         Param #     Connected to                     \n",
            "==================================================================================================\n",
            " input_7 (InputLayer)           [(None, 90)]         0           []                               \n",
            "                                                                                                  \n",
            " embedding_6 (Embedding)        (None, 90, 300)      27000000    ['input_7[0][0]']                \n",
            "                                                                                                  \n",
            " conv1d_15 (Conv1D)             (None, 88, 128)      115328      ['embedding_6[0][0]']            \n",
            "                                                                                                  \n",
            " conv1d_16 (Conv1D)             (None, 86, 64)       24640       ['conv1d_15[0][0]']              \n",
            "                                                                                                  \n",
            " global_average_pooling1d_6 (Gl  (None, 64)          0           ['conv1d_16[0][0]']              \n",
            " obalAveragePooling1D)                                                                            \n",
            "                                                                                                  \n",
            " global_max_pooling1d_6 (Global  (None, 64)          0           ['conv1d_16[0][0]']              \n",
            " MaxPooling1D)                                                                                    \n",
            "                                                                                                  \n",
            " concatenate_6 (Concatenate)    (None, 128)          0           ['global_average_pooling1d_6[0][0\n",
            "                                                                 ]',                              \n",
            "                                                                  'global_max_pooling1d_6[0][0]'] \n",
            "                                                                                                  \n",
            " dense_8 (Dense)                (None, 50)           6450        ['concatenate_6[0][0]']          \n",
            "                                                                                                  \n",
            " flatten_4 (Flatten)            (None, 50)           0           ['dense_8[0][0]']                \n",
            "                                                                                                  \n",
            " dense_9 (Dense)                (None, 2)            102         ['flatten_4[0][0]']              \n",
            "                                                                                                  \n",
            "==================================================================================================\n",
            "Total params: 27,146,520\n",
            "Trainable params: 27,146,520\n",
            "Non-trainable params: 0\n",
            "__________________________________________________________________________________________________\n"
          ]
        }
      ]
    },
    {
      "cell_type": "code",
      "source": [
        "import tensorflow as tf\n",
        "tf.__version__"
      ],
      "metadata": {
        "colab": {
          "base_uri": "https://localhost:8080/",
          "height": 35
        },
        "id": "JuZTye_9Sty9",
        "outputId": "785d7fd6-e9f9-4f46-a6df-9bbdf2b7ca2a"
      },
      "execution_count": null,
      "outputs": [
        {
          "output_type": "execute_result",
          "data": {
            "text/plain": [
              "'2.9.2'"
            ],
            "application/vnd.google.colaboratory.intrinsic+json": {
              "type": "string"
            }
          },
          "metadata": {},
          "execution_count": 37
        }
      ]
    },
    {
      "cell_type": "code",
      "metadata": {
        "id": "QRj5IjoWqx66"
      },
      "source": [
        "file_path = '{epoch:02d}-{val_loss:.5f}.h5'\n",
        "checkpoint = ModelCheckpoint(file_path,monitor='val_loss',verbose = 1, save_best_only=True)\n",
        "early_stop = EarlyStopping(monitor='val_loss',patience=10)"
      ],
      "execution_count": null,
      "outputs": []
    },
    {
      "cell_type": "code",
      "source": [
        "y_train[y_train=='positive'] = 1\n",
        "y_train[y_train=='negative'] = 0\n",
        "y_val[y_val=='positive'] = 1\n",
        "y_val[y_val=='negative'] = 0"
      ],
      "metadata": {
        "id": "Jfauf-bzSQGV"
      },
      "execution_count": null,
      "outputs": []
    },
    {
      "cell_type": "code",
      "source": [
        "from tensorflow.keras.utils import to_categorical \n",
        "y_train_one = to_categorical(y_train)\n",
        "y_val_one = to_categorical(y_test)"
      ],
      "metadata": {
        "id": "YEZBZkYASIiX"
      },
      "execution_count": null,
      "outputs": []
    },
    {
      "cell_type": "code",
      "metadata": {
        "colab": {
          "base_uri": "https://localhost:8080/"
        },
        "id": "igNPd9BC3F6i",
        "outputId": "b27097a0-9299-49cb-e011-45522fc1e5df"
      },
      "source": [
        "# hist = model.fit(x_train, y_train_one, epochs=3,batch_size=256, validation_data=(x_val,y_val_one), callbacks= [checkpoint,early_stop])"
      ],
      "execution_count": null,
      "outputs": [
        {
          "output_type": "stream",
          "name": "stdout",
          "text": [
            "Epoch 1/3\n",
            "124/124 [==============================] - ETA: 0s - loss: 0.5981 - accuracy: 0.6674\n",
            "Epoch 1: val_loss improved from inf to 0.48281, saving model to 01-0.48281.h5\n",
            "124/124 [==============================] - 6s 41ms/step - loss: 0.5981 - accuracy: 0.6674 - val_loss: 0.4828 - val_accuracy: 0.7717\n",
            "Epoch 2/3\n",
            "123/124 [============================>.] - ETA: 0s - loss: 0.3567 - accuracy: 0.8431\n",
            "Epoch 2: val_loss improved from 0.48281 to 0.36842, saving model to 02-0.36842.h5\n",
            "124/124 [==============================] - 4s 33ms/step - loss: 0.3566 - accuracy: 0.8431 - val_loss: 0.3684 - val_accuracy: 0.8320\n",
            "Epoch 3/3\n",
            "122/124 [============================>.] - ETA: 0s - loss: 0.2019 - accuracy: 0.9222\n",
            "Epoch 3: val_loss did not improve from 0.36842\n",
            "124/124 [==============================] - 3s 26ms/step - loss: 0.2019 - accuracy: 0.9222 - val_loss: 0.3861 - val_accuracy: 0.8386\n"
          ]
        }
      ]
    },
    {
      "cell_type": "code",
      "source": [
        "hist = model.fit(X_train,y_train_one,validation_split=0.2,epochs=100,batch_size= 128,verbose=1,callbacks=[checkpoint,early_stop])"
      ],
      "metadata": {
        "colab": {
          "base_uri": "https://localhost:8080/"
        },
        "id": "aVV4ifDO9e_o",
        "outputId": "9c27c3b6-5d12-4498-b513-22b28e8ddbe3"
      },
      "execution_count": null,
      "outputs": [
        {
          "output_type": "stream",
          "name": "stdout",
          "text": [
            "Epoch 1/100\n",
            "215/219 [============================>.] - ETA: 0s - loss: 0.1663 - accuracy: 0.9381\n",
            "Epoch 1: val_loss improved from inf to 0.43353, saving model to 01-0.43353.h5\n",
            "219/219 [==============================] - 3s 15ms/step - loss: 0.1661 - accuracy: 0.9381 - val_loss: 0.4335 - val_accuracy: 0.8330\n",
            "Epoch 2/100\n",
            "218/219 [============================>.] - ETA: 0s - loss: 0.0856 - accuracy: 0.9719\n",
            "Epoch 2: val_loss did not improve from 0.43353\n",
            "219/219 [==============================] - 3s 13ms/step - loss: 0.0856 - accuracy: 0.9719 - val_loss: 0.5916 - val_accuracy: 0.8034\n",
            "Epoch 3/100\n",
            "219/219 [==============================] - ETA: 0s - loss: 0.0413 - accuracy: 0.9874\n",
            "Epoch 3: val_loss did not improve from 0.43353\n",
            "219/219 [==============================] - 3s 12ms/step - loss: 0.0413 - accuracy: 0.9874 - val_loss: 0.5321 - val_accuracy: 0.8374\n",
            "Epoch 4/100\n",
            "217/219 [============================>.] - ETA: 0s - loss: 0.0196 - accuracy: 0.9938\n",
            "Epoch 4: val_loss did not improve from 0.43353\n",
            "219/219 [==============================] - 3s 12ms/step - loss: 0.0195 - accuracy: 0.9938 - val_loss: 0.6166 - val_accuracy: 0.8333\n",
            "Epoch 5/100\n",
            "218/219 [============================>.] - ETA: 0s - loss: 0.0103 - accuracy: 0.9966\n",
            "Epoch 5: val_loss did not improve from 0.43353\n",
            "219/219 [==============================] - 3s 13ms/step - loss: 0.0103 - accuracy: 0.9966 - val_loss: 0.7099 - val_accuracy: 0.8309\n",
            "Epoch 6/100\n",
            "219/219 [==============================] - ETA: 0s - loss: 0.0067 - accuracy: 0.9978\n",
            "Epoch 6: val_loss did not improve from 0.43353\n",
            "219/219 [==============================] - 3s 13ms/step - loss: 0.0067 - accuracy: 0.9978 - val_loss: 0.7767 - val_accuracy: 0.8353\n",
            "Epoch 7/100\n",
            "216/219 [============================>.] - ETA: 0s - loss: 0.0027 - accuracy: 0.9991\n",
            "Epoch 7: val_loss did not improve from 0.43353\n",
            "219/219 [==============================] - 3s 12ms/step - loss: 0.0026 - accuracy: 0.9991 - val_loss: 0.8517 - val_accuracy: 0.8326\n",
            "Epoch 8/100\n",
            "215/219 [============================>.] - ETA: 0s - loss: 0.0024 - accuracy: 0.9993\n",
            "Epoch 8: val_loss did not improve from 0.43353\n",
            "219/219 [==============================] - 3s 13ms/step - loss: 0.0023 - accuracy: 0.9993 - val_loss: 0.9108 - val_accuracy: 0.8329\n",
            "Epoch 9/100\n",
            "215/219 [============================>.] - ETA: 0s - loss: 0.0017 - accuracy: 0.9993\n",
            "Epoch 9: val_loss did not improve from 0.43353\n",
            "219/219 [==============================] - 3s 13ms/step - loss: 0.0016 - accuracy: 0.9993 - val_loss: 0.9944 - val_accuracy: 0.8369\n",
            "Epoch 10/100\n",
            "218/219 [============================>.] - ETA: 0s - loss: 0.0014 - accuracy: 0.9995\n",
            "Epoch 10: val_loss did not improve from 0.43353\n",
            "219/219 [==============================] - 3s 12ms/step - loss: 0.0014 - accuracy: 0.9995 - val_loss: 1.0389 - val_accuracy: 0.8383\n",
            "Epoch 11/100\n",
            "215/219 [============================>.] - ETA: 0s - loss: 7.0207e-04 - accuracy: 0.9996\n",
            "Epoch 11: val_loss did not improve from 0.43353\n",
            "219/219 [==============================] - 3s 12ms/step - loss: 6.9017e-04 - accuracy: 0.9996 - val_loss: 1.0988 - val_accuracy: 0.8383\n"
          ]
        }
      ]
    },
    {
      "cell_type": "code",
      "metadata": {
        "id": "ZJK06Xs1M6qS"
      },
      "source": [
        "import matplotlib.pyplot as plt\n",
        "def acc_loss_plot(hist):\n",
        "    fig, loss_ax = plt.subplots()\n",
        "    acc_ax = loss_ax.twinx()\n",
        "\n",
        "    loss_ax.plot(hist.history['loss'], 'y', label='train loss')\n",
        "    loss_ax.plot(hist.history['val_loss'], 'r', label='val loss')\n",
        "    loss_ax.set_xlabel('epoch')\n",
        "    loss_ax.set_ylabel('loss')\n",
        "    loss_ax.legend(loc = 'upper left')\n",
        "\n",
        "    acc_ax.plot(hist.history['accuracy'], 'b', label='train acc')\n",
        "    acc_ax.plot(hist.history['val_accuracy'], 'g', label='val acc')\n",
        "    acc_ax.set_ylabel('accuracy')\n",
        "    acc_ax.legend(loc='upper right')\n",
        "\n",
        "    plt.show()"
      ],
      "execution_count": null,
      "outputs": []
    },
    {
      "cell_type": "code",
      "metadata": {
        "colab": {
          "base_uri": "https://localhost:8080/",
          "height": 279
        },
        "id": "E9ajTRiiM737",
        "outputId": "eb7234f8-1c38-4184-8c26-1871b59441b7"
      },
      "source": [
        "acc_loss_plot(hist)"
      ],
      "execution_count": null,
      "outputs": [
        {
          "output_type": "display_data",
          "data": {
            "text/plain": [
              "<Figure size 432x288 with 2 Axes>"
            ],
            "image/png": "[encoded data removed]"
          },
          "metadata": {
            "needs_background": "light"
          }
        }
      ]
    },
    {
      "cell_type": "code",
      "source": [
        "# y_test = test_data['sentiment'] \n",
        "# y_test[y_test=='positive'] = 1\n",
        "# y_test[y_test=='negative'] = 0\n",
        "y_test_one = to_categorical(y_test)"
      ],
      "metadata": {
        "id": "QglnSa-rTJ9_"
      },
      "execution_count": null,
      "outputs": []
    },
    {
      "cell_type": "code",
      "source": [
        "y_test_one"
      ],
      "metadata": {
        "colab": {
          "base_uri": "https://localhost:8080/"
        },
        "id": "R51BSfi5Tvb7",
        "outputId": "df54156b-db84-49cd-a3fe-6dab12fba6c9"
      },
      "execution_count": null,
      "outputs": [
        {
          "output_type": "execute_result",
          "data": {
            "text/plain": [
              "array([[1., 0.],\n",
              "       [0., 1.],\n",
              "       [1., 0.],\n",
              "       ...,\n",
              "       [1., 0.],\n",
              "       [1., 0.],\n",
              "       [1., 0.]], dtype=float32)"
            ]
          },
          "metadata": {},
          "execution_count": 48
        }
      ]
    },
    {
      "cell_type": "code",
      "metadata": {
        "id": "8v10UffLx6h9",
        "colab": {
          "base_uri": "https://localhost:8080/"
        },
        "outputId": "f29259b2-ffea-4e3a-85a8-6bb805c969d9"
      },
      "source": [
        "score = model.evaluate(X_test,y_test_one)"
      ],
      "execution_count": null,
      "outputs": [
        {
          "output_type": "stream",
          "name": "stdout",
          "text": [
            "469/469 [==============================] - 2s 3ms/step - loss: 1.1078 - accuracy: 0.8295\n"
          ]
        }
      ]
    },
    {
      "cell_type": "code",
      "source": [
        "score[1]"
      ],
      "metadata": {
        "colab": {
          "base_uri": "https://localhost:8080/"
        },
        "id": "5NgmMjOtTqTn",
        "outputId": "171b884d-799d-4b05-d3b4-ab9fe9f0b8c8"
      },
      "execution_count": null,
      "outputs": [
        {
          "output_type": "execute_result",
          "data": {
            "text/plain": [
              "0.8469333052635193"
            ]
          },
          "metadata": {},
          "execution_count": 52
        }
      ]
    },
    {
      "cell_type": "code",
      "source": [],
      "metadata": {
        "id": "dtaL62CVUDV9"
      },
      "execution_count": null,
      "outputs": []
    }
  ]
}